{
 "cells": [
  {
   "cell_type": "code",
   "execution_count": 5,
   "metadata": {},
   "outputs": [
    {
     "name": "stdout",
     "output_type": "stream",
     "text": [
      "a a b 1\n"
     ]
    }
   ],
   "source": [
    "def haha(a: str, b: int):\n",
    "    print('a', a, 'b', b)\n",
    "\n",
    "def trigger_function(status: bool = False, func_name: str = '', args: dict = {}) -> None:\n",
    "    \"\"\"\n",
    "    Trigger the function in the backend\n",
    "    For example: if status is True, and func_name is queries_db\n",
    "    then run queries_db(*args)\n",
    "    Args:\n",
    "        func_name (str): _description_\n",
    "        args (dict): _description_\n",
    "    \"\"\"\n",
    "\n",
    "    if status:\n",
    "        if func_name in globals() and callable(globals()[func_name]):\n",
    "            if args:\n",
    "                globals()[func_name](**args)\n",
    "            else:\n",
    "                globals()[func_name]()\n",
    "\n",
    "# Calling trigger_function with haha function\n",
    "trigger_function(True, 'haha', {\n",
    "    'a' : 'a',\n",
    "    'b' : 1\n",
    "})\n"
   ]
  },
  {
   "cell_type": "code",
   "execution_count": 2,
   "metadata": {},
   "outputs": [
    {
     "name": "stdout",
     "output_type": "stream",
     "text": [
      "SELECT * FROM laptops WHERE manufacturer IN (?, ?) AND laptop_type = ? AND cpu = ? AND disk_type = ? AND ram_size >= ? AND ram_size <= ? AND screen_size IN (?, ?);\n",
      "('acer', 'dell', 'gaming', 'i7', 'SSD', 8, 16, 15.6, 17.3)\n"
     ]
    }
   ],
   "source": [
    "def build_filter_query(**kwargs):\n",
    "    \"\"\"\n",
    "    This function will build the filter query for SQLite.\n",
    "    In kwargs, all the arguments are the columns of this schema:\n",
    "    ```\n",
    "    id: INTEGER\n",
    "    product_name: TEXT\n",
    "    url: TEXT\n",
    "    present_price: INTEGER\n",
    "    old_price: INTEGER\n",
    "    discount: REAL\n",
    "    manufacturer: TEXT\n",
    "    raw_html_path: TEXT\n",
    "    laptop_type: TEXT\n",
    "    cpu: TEXT\n",
    "    cpu_generation: INTEGER\n",
    "    disk_type: TEXT\n",
    "    disk_size: INTEGER\n",
    "    ram_gb: INTEGER\n",
    "    max_ram_slot: INTEGER\n",
    "    screen_size: REAL\n",
    "    screen_resolution: TEXT\n",
    "    screen_refresh_rate: INTEGER\n",
    "    gpu_type: TEXT\n",
    "    gpu_model: TEXT\n",
    "    weight_kg: REAL\n",
    "    ports: TEXT\n",
    "    special_features: TEXT\n",
    "    release_year: INTEGER\n",
    "    ```\n",
    "\n",
    "    Returns:\n",
    "    The select query for SQLite. Must have all the columns in the schema.\n",
    "    \"\"\"\n",
    "    \n",
    "    query = 'SELECT * FROM laptop_detail WHERE'\n",
    "    \n",
    "    for key, value in kwargs.items():\n",
    "        if isinstance(value, list):\n",
    "            kwargs[key] = tuple(value)\n",
    "\n",
    "\n",
    "# Example usage:\n",
    "filter_params = {\n",
    "    \"manufacturer\": [\"acer\", \"dell\"],\n",
    "    \"laptop_type\": \"gaming\",\n",
    "    \"cpu\": \"i7\",\n",
    "    \"disk_type\": \"SSD\",\n",
    "    \"ram_size_start\": 8,\n",
    "    \"ram_size_end\": 16,\n",
    "    \"screen_size\": [15.6, 17.3],\n",
    "    # Add more parameters as needed\n",
    "}\n",
    "\n",
    "query, values = build_filter_query(**filter_params)\n",
    "print(query)\n",
    "print(values)\n"
   ]
  }
 ],
 "metadata": {
  "kernelspec": {
   "display_name": ".venv",
   "language": "python",
   "name": "python3"
  },
  "language_info": {
   "codemirror_mode": {
    "name": "ipython",
    "version": 3
   },
   "file_extension": ".py",
   "mimetype": "text/x-python",
   "name": "python",
   "nbconvert_exporter": "python",
   "pygments_lexer": "ipython3",
   "version": "3.11.6"
  }
 },
 "nbformat": 4,
 "nbformat_minor": 2
}
