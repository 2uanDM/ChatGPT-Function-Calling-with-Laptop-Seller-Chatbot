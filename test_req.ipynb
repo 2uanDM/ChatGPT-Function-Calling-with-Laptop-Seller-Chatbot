{
 "cells": [
  {
   "cell_type": "code",
   "execution_count": 2,
   "metadata": {},
   "outputs": [],
   "source": [
    "from bs4 import BeautifulSoup as bs "
   ]
  },
  {
   "cell_type": "code",
   "execution_count": 3,
   "metadata": {},
   "outputs": [],
   "source": [
    "path = 'data/raw_htmls/tgdd/hp_4.html'\n",
    "\n",
    "with open(path, 'r', encoding='utf-8') as f:\n",
    "    soup = bs(f, 'html.parser')"
   ]
  },
  {
   "cell_type": "code",
   "execution_count": 4,
   "metadata": {},
   "outputs": [
    {
     "name": "stdout",
     "output_type": "stream",
     "text": [
      "Laptop HP 14 ep0126TU i3 N305/8GB/256GB/Win11 (8U233PA)\n"
     ]
    }
   ],
   "source": [
    "# Extract product name (first found h1)\n",
    "product_name = soup.find('h1').text.strip() \n",
    "print(product_name)"
   ]
  },
  {
   "cell_type": "code",
   "execution_count": 21,
   "metadata": {},
   "outputs": [
    {
     "name": "stdout",
     "output_type": "stream",
     "text": [
      "9490000\n"
     ]
    }
   ],
   "source": [
    "box_price = soup.find('div', {'class' : 'box-price'})\n",
    "\n",
    "def process_price(price):\n",
    "    try:\n",
    "        price = price.replace('₫', '')\n",
    "        price = price.replace('*', '')\n",
    "        while '.' in price:\n",
    "            price = price.replace('.', '')\n",
    "            \n",
    "        price = price.strip()\n",
    "        return int(price)\n",
    "    except:\n",
    "        return price\n",
    "\n",
    "present_price = box_price.find('p', {'class' : 'box-price-present'}).text.strip()\n",
    "\n",
    "print(process_price(present_price))"
   ]
  },
  {
   "cell_type": "code",
   "execution_count": 29,
   "metadata": {},
   "outputs": [
    {
     "name": "stdout",
     "output_type": "stream",
     "text": [
      "CPU: i3 chuỗi N,N305,1.8GHz\n",
      "RAM: 8 GB,DDR4 (1 khe),3200 MHz\n",
      "Ổ cứng: 256 GB SSD NVMe PCIe (Có thể tháo ra, lắp thanh khác tối đa 512 GB)\n",
      "Màn hình: 14\",Full HD (1920 x 1080)\n",
      "Card màn hình: Card tích hợp,Intel UHD\n",
      "Cổng kết nối: 1 x USB Type-C (chỉ hỗ trợ truyền dữ liệu),HDMI,Jack tai nghe 3.5 mm,2 x USB Type-A\n",
      "Hệ điều hành: Windows 11 Home SL\n",
      "Thiết kế: Vỏ nhựa\n",
      "Kích thước, khối lượng: Dài 323.7 mm - Rộng 215 mm - Dày 17.9 mm - Nặng 1.41 kg\n",
      "Thời điểm ra mắt: 2023\n"
     ]
    }
   ],
   "source": [
    "# Get detail specs\n",
    "parameter = soup.find('div', {'class' : 'parameter'})\n",
    "ul = parameter.find('ul')\n",
    "li_list = ul.find_all('li')\n",
    "\n",
    "for li in li_list:\n",
    "    feature = li.find('p', {'class' : 'lileft'}).text.strip()\n",
    "    info = li.find('div', {'class' : 'liright'}).text.strip()\n",
    "    \n",
    "    info_list = list(map(lambda x: x.strip(), info.split('\\n')))\n",
    "    info = ','.join(info_list)\n",
    "    \n",
    "    print(feature, info, sep=' ')"
   ]
  },
  {
   "cell_type": "code",
   "execution_count": 8,
   "metadata": {},
   "outputs": [],
   "source": [
    "from src.utils.selenium import ChromeDriver\n",
    "\n",
    "driver = ChromeDriver().driver\n",
    "\n",
    "driver.get('https://www.thegioididong.com/laptop/lenovo-v14-g3-aba-r5-82tu006svn')\n",
    "\n",
    "with open('data/raw_htmls/tgdd/lenovo_3.html', 'w', encoding='utf-8') as f:\n",
    "    f.write(driver.page_source)"
   ]
  }
 ],
 "metadata": {
  "kernelspec": {
   "display_name": ".venv",
   "language": "python",
   "name": "python3"
  },
  "language_info": {
   "codemirror_mode": {
    "name": "ipython",
    "version": 3
   },
   "file_extension": ".py",
   "mimetype": "text/x-python",
   "name": "python",
   "nbconvert_exporter": "python",
   "pygments_lexer": "ipython3",
   "version": "3.11.6"
  }
 },
 "nbformat": 4,
 "nbformat_minor": 2
}
